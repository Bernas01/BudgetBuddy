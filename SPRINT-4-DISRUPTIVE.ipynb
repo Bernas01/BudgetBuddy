{
  "nbformat": 4,
  "nbformat_minor": 0,
  "metadata": {
    "colab": {
      "provenance": [],
      "authorship_tag": "ABX9TyMX9E2Hu5OqpUSL71kgHAp2",
      "include_colab_link": true
    },
    "kernelspec": {
      "name": "python3",
      "display_name": "Python 3"
    },
    "language_info": {
      "name": "python"
    }
  },
  "cells": [
    {
      "cell_type": "markdown",
      "metadata": {
        "id": "view-in-github",
        "colab_type": "text"
      },
      "source": [
        "<a href=\"https://colab.research.google.com/github/Bernas01/BudgetBuddy/blob/main/SPRINT-4-DISRUPTIVE.ipynb\" target=\"_parent\"><img src=\"https://colab.research.google.com/assets/colab-badge.svg\" alt=\"Open In Colab\"/></a>"
      ]
    },
    {
      "cell_type": "code",
      "execution_count": null,
      "metadata": {
        "colab": {
          "base_uri": "https://localhost:8080/"
        },
        "id": "EjxGM_wVhM0s",
        "outputId": "f1b37883-51f4-4e9e-f8d7-b327bc61f159"
      },
      "outputs": [
        {
          "output_type": "stream",
          "name": "stdout",
          "text": [
            "Bem-vindo ao Sistema de Agricultura Inteligente!\n",
            "-----------------------------------------------------------\n"
          ]
        }
      ],
      "source": [
        "\n",
        "def exibir_cabecalho():\n",
        "    print(\"Bem-vindo ao Sistema de Agricultura Inteligente!\")\n",
        "    print(\"-----------------------------------------------------------\")\n",
        "\n",
        "def capturar_dados_usuario():\n",
        "    nome = input(\"Digite seu nome completo: \")\n",
        "    cpf = input(\"Digite seu CPF: \")\n",
        "    return nome, cpf\n",
        "\n",
        "def exibir_menu():\n",
        "    print(\"\\n\")\n",
        "    print(\"1 - Escolher Tipo de Vegetal ou Fruta para Plantio\")\n",
        "    print(\"2 - Verificar Tipo de Solo\")\n",
        "    print(\"3 - Verificar Condições Climáticas\")\n",
        "    print(\"4 - Escolher Tipo de Fertilizante\")\n",
        "    print(\"5 - Tempo Aproximado de Plantio\")\n",
        "    print(\"-----------------------------------------------------------\")\n",
        "\n",
        "def processar_escolha(escolha, opcoes_selecionadas):\n",
        "    if escolha == 1:\n",
        "        tipo_vegetal = input(\"Digite o tipo de vegetal ou fruta que deseja plantar: \")\n",
        "        print(f\"Recomendação: O vegetal {tipo_vegetal} é adequado para sua região.\")\n",
        "        opcoes_selecionadas.append(f\"Tipo de vegetal ou fruta: {tipo_vegetal}\")\n",
        "\n",
        "    elif escolha == 2:\n",
        "        tipo_solo = input(\"Digite o tipo de solo do seu terreno: \")\n",
        "        print(f\"Seu terreno possui solo do tipo {tipo_solo}. Recomendação: Adequado para cultivos como milho e soja.\")\n",
        "        opcoes_selecionadas.append(f\"Tipo de solo: {tipo_solo}\")\n",
        "\n",
        "    elif escolha == 3:\n",
        "        clima = input(\"Digite as condições climáticas da região: \")\n",
        "        print(f\"A região possui condições climáticas {clima}. Recomendação: Adequado para plantas resistentes ao calor.\")\n",
        "        opcoes_selecionadas.append(f\"Condições climáticas: {clima}\")\n",
        "\n",
        "    elif escolha == 4:\n",
        "        fertilizante = input(\"Escolha o tipo de fertilizante que deseja utilizar: \")\n",
        "        print(f\"Você escolheu o fertilizante do tipo {fertilizante}. Recomendação: Esse fertilizante é ótimo para plantas de crescimento rápido.\")\n",
        "        opcoes_selecionadas.append(f\"Tipo de fertilizante: {fertilizante}\")\n",
        "\n",
        "    elif escolha == 5:\n",
        "        tempo_plantio = input(\"Digite o tempo aproximado de duração do plantio: \")\n",
        "        print(f\"O plantio levará aproximadamente {tempo_plantio}.\")\n",
        "        opcoes_selecionadas.append(f\"Tempo de plantio aproximado: {tempo_plantio}\")\n",
        "\n",
        "    else:\n",
        "        print(\"Opção inválida!\")\n",
        "\n",
        "def exibir_opcoes_selecionadas(opcoes_selecionadas):\n",
        "    print(\"\\nOpções selecionadas:\")\n",
        "    for opcao in opcoes_selecionadas:\n",
        "        print(opcao)\n",
        "\n",
        "def main():\n",
        "    exibir_cabecalho()\n",
        "    nome, cpf = capturar_dados_usuario()\n",
        "\n",
        "    opcoes_selecionadas = []\n",
        "    resp = 1\n",
        "\n",
        "    while resp != 0:\n",
        "        exibir_menu()\n",
        "        escolha = int(input(\"Digite o número referente à informação que deseja acessar (1 - 5): \"))\n",
        "        processar_escolha(escolha, opcoes_selecionadas)\n",
        "\n",
        "        print(\"\\n\")\n",
        "        resp = int(input(\"Deseja continuar (1 - SIM, 0 - NÃO)? \"))\n",
        "\n",
        "    exibir_opcoes_selecionadas(opcoes_selecionadas)\n",
        "\n",
        "    print(\"\\n[Análise da Arquitetura de IA]\")\n",
        "    print(\"O sistema será projetado para integrar inteligência artificial, utilizando redes neurais para analisar tipos de solo, clima e prever colheitas.\")\n",
        "    print(\"A IA será treinada com dados históricos e condições locais para fornecer recomendações otimizadas para o agricultor.\")\n",
        "\n",
        "    print(\"\\n[Base de Dados Utilizada]\")\n",
        "    print(\"A base de dados será composta por informações de clima e solo de fontes agrícolas locais e globais.\")\n",
        "    print(\"Esses dados alimentarão o modelo de IA para gerar previsões e recomendações adequadas para cada tipo de cultivo.\")\n",
        "\n",
        "if __name__ == \"__main__\":\n",
        "    main()\n"
      ]
    }
  ]
}